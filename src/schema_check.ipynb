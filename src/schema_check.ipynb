{
 "cells": [
  {
   "cell_type": "code",
   "execution_count": 3,
   "metadata": {},
   "outputs": [
    {
     "data": {
      "text/plain": [
       "True"
      ]
     },
     "execution_count": 3,
     "metadata": {},
     "output_type": "execute_result"
    }
   ],
   "source": [
    "from dotenv import load_dotenv\n",
    "import turbopuffer as tpuf\n",
    "import os\n",
    "\n",
    "load_dotenv()"
   ]
  },
  {
   "cell_type": "code",
   "execution_count": 4,
   "metadata": {},
   "outputs": [],
   "source": [
    "load_dotenv()\n",
    "tpuf.api_key = os.getenv(\"TURBOPUFFER_API_KEY\")\n",
    "tpuf.api_base_url = \"https://gcp-us-central1.turbopuffer.com\""
   ]
  },
  {
   "cell_type": "code",
   "execution_count": 5,
   "metadata": {},
   "outputs": [
    {
     "data": {
      "text/plain": [
       "{'doc_name': <turbopuffer.namespace.AttributeSchema at 0x112940fe0>,\n",
       " 'vector': <turbopuffer.namespace.AttributeSchema at 0x112c630e0>,\n",
       " 'chunk_index': <turbopuffer.namespace.AttributeSchema at 0x112c63680>,\n",
       " 'company': <turbopuffer.namespace.AttributeSchema at 0x112c636b0>,\n",
       " 'doc_period': <turbopuffer.namespace.AttributeSchema at 0x112c637d0>,\n",
       " 'doc_link': <turbopuffer.namespace.AttributeSchema at 0x112c635f0>,\n",
       " 'doc_type': <turbopuffer.namespace.AttributeSchema at 0x112c635c0>,\n",
       " 'gics_sector': <turbopuffer.namespace.AttributeSchema at 0x112c63800>,\n",
       " 'text': <turbopuffer.namespace.AttributeSchema at 0x112c63860>,\n",
       " 'id': <turbopuffer.namespace.AttributeSchema at 0x112c638f0>}"
      ]
     },
     "execution_count": 5,
     "metadata": {},
     "output_type": "execute_result"
    }
   ],
   "source": [
    "ns = tpuf.Namespace(os.getenv(\"TURBOPUFFER_NAMESPACE\"))\n",
    "ns.schema()"
   ]
  }
 ],
 "metadata": {
  "kernelspec": {
   "display_name": ".venv",
   "language": "python",
   "name": "python3"
  },
  "language_info": {
   "codemirror_mode": {
    "name": "ipython",
    "version": 3
   },
   "file_extension": ".py",
   "mimetype": "text/x-python",
   "name": "python",
   "nbconvert_exporter": "python",
   "pygments_lexer": "ipython3",
   "version": "3.12.3"
  }
 },
 "nbformat": 4,
 "nbformat_minor": 2
}
